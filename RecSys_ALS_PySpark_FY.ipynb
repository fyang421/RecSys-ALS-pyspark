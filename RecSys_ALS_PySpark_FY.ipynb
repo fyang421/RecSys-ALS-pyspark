{
  "nbformat": 4,
  "nbformat_minor": 0,
  "metadata": {
    "colab": {
      "name": "RecSys_ALS_PySpark_FY.ipynb",
      "provenance": [],
      "toc_visible": true
    },
    "kernelspec": {
      "name": "python3",
      "display_name": "Python 3"
    }
  },
  "cells": [
    {
      "cell_type": "markdown",
      "metadata": {
        "id": "0By3UkMWhWz-"
      },
      "source": [
        "## Summary\n",
        "*   This project builds a collaborative filtering, specifically alternating least square (ALS) matrix factorization, recommendation system implemented with Spark ML.\n",
        "*   The model was trainined on the MovieLens 27,000,000 movie rating dataset. Best model achieved RMSE of 0.71.\n",
        "*   Trained model can predict each user's rating to all the movies in the database. So for each user, the recommendation system can recommend movies he/she is likely to like and give high rating.\n",
        "*   Also the item matrix can be used to find similar movies for each movie. When user is searching and browsing for certain movies, similar movies can be recommended to him/her.\n",
        "\n",
        "## Process\n",
        "1. Data exploration to have an overall understanding of the dataset.\n",
        "2. Trian a ALS model, and tune hyperparameter using cross validation.\n",
        "3. Model evaluation use RMSE\n",
        "4. Use the trained model to recommend movies to user(s). Use item matrix to recommend similar movies of a specific movie.\n"
      ]
    },
    {
      "cell_type": "code",
      "metadata": {
        "id": "IpTsRa5yhhNl",
        "colab": {
          "base_uri": "https://localhost:8080/",
          "height": 238
        },
        "outputId": "0f93a9e4-d80c-4ea8-d8d6-fd4ba4d3406b"
      },
      "source": [
        "# Install dependencies of Spark\n",
        "!apt-get update\n",
        "!apt-get install openjdk-8-jdk-headless -qq > /dev/null\n",
        "!wget -q https://downloads.apache.org/spark/spark-3.0.1/spark-3.0.1-bin-hadoop2.7.tgz \n",
        "!tar xf spark-3.0.1-bin-hadoop2.7.tgz"
      ],
      "execution_count": null,
      "outputs": [
        {
          "output_type": "stream",
          "text": [
            "Hit:1 https://cloud.r-project.org/bin/linux/ubuntu bionic-cran40/ InRelease\n",
            "Ign:2 https://developer.download.nvidia.com/compute/cuda/repos/ubuntu1804/x86_64  InRelease\n",
            "Ign:3 https://developer.download.nvidia.com/compute/machine-learning/repos/ubuntu1804/x86_64  InRelease\n",
            "Hit:4 https://developer.download.nvidia.com/compute/cuda/repos/ubuntu1804/x86_64  Release\n",
            "Hit:5 https://developer.download.nvidia.com/compute/machine-learning/repos/ubuntu1804/x86_64  Release\n",
            "Hit:6 http://archive.ubuntu.com/ubuntu bionic InRelease\n",
            "Hit:7 http://ppa.launchpad.net/c2d4u.team/c2d4u4.0+/ubuntu bionic InRelease\n",
            "Get:8 http://security.ubuntu.com/ubuntu bionic-security InRelease [88.7 kB]\n",
            "Get:10 http://archive.ubuntu.com/ubuntu bionic-updates InRelease [88.7 kB]\n",
            "Hit:12 http://ppa.launchpad.net/graphics-drivers/ppa/ubuntu bionic InRelease\n",
            "Get:13 http://archive.ubuntu.com/ubuntu bionic-backports InRelease [74.6 kB]\n",
            "Fetched 252 kB in 2s (118 kB/s)\n",
            "Reading package lists... Done\n"
          ],
          "name": "stdout"
        }
      ]
    },
    {
      "cell_type": "code",
      "metadata": {
        "id": "8xZvofMfhnnX",
        "colab": {
          "base_uri": "https://localhost:8080/",
          "height": 68
        },
        "outputId": "c2d154da-5b13-4cd4-8696-481a4efcf409"
      },
      "source": [
        "# Install Spark\n",
        "!pip install -q findspark\n",
        "!pip install py4j\n",
        "\n",
        "!export JAVA_HOME=$(/usr/lib/jvm/java-8-openjdk-amd64 -v 1.8)\n",
        "! echo $JAVA_HOME\n",
        "import os\n",
        "os.environ[\"JAVA_HOME\"] = \"/usr/lib/jvm/java-8-openjdk-amd64\"\n",
        "os.environ[\"SPARK_HOME\"] = \"/content/spark-3.0.0-bin-hadoop2.7\"\n",
        "import findspark\n",
        "findspark.init(\"spark-3.0.1-bin-hadoop2.7\")# SPARK_HOME\n",
        "\n",
        "from pyspark.sql import SparkSession\n",
        "spark = SparkSession.builder.master(\"local[*]\").getOrCreate()"
      ],
      "execution_count": null,
      "outputs": [
        {
          "output_type": "stream",
          "text": [
            "Requirement already satisfied: py4j in /usr/local/lib/python3.6/dist-packages (0.10.9.1)\n",
            "/bin/bash: /usr/lib/jvm/java-8-openjdk-amd64: Is a directory\n",
            "\n"
          ],
          "name": "stdout"
        }
      ]
    },
    {
      "cell_type": "code",
      "metadata": {
        "id": "a3MFyUwo80y4"
      },
      "source": [
        "from pyspark.sql import SparkSession\n",
        "spark = SparkSession \\\n",
        "    .builder \\\n",
        "    .appName(\"RecSys_ALS\") \\\n",
        "    .config(\"spark.some.config.option\", \"some-value\") \\\n",
        "    .getOrCreate()"
      ],
      "execution_count": null,
      "outputs": []
    },
    {
      "cell_type": "code",
      "metadata": {
        "id": "GA3wOqPJCrsX",
        "colab": {
          "base_uri": "https://localhost:8080/",
          "height": 275
        },
        "outputId": "110183cc-ccfa-400e-87c1-d3b5c5ae9971"
      },
      "source": [
        "!pip install 'PyArrow==0.15.1'\n",
        "!pip install koalas"
      ],
      "execution_count": null,
      "outputs": [
        {
          "output_type": "stream",
          "text": [
            "Requirement already satisfied: PyArrow==0.15.1 in /usr/local/lib/python3.6/dist-packages (0.15.1)\n",
            "Requirement already satisfied: six>=1.0.0 in /usr/local/lib/python3.6/dist-packages (from PyArrow==0.15.1) (1.15.0)\n",
            "Requirement already satisfied: numpy>=1.14 in /usr/local/lib/python3.6/dist-packages (from PyArrow==0.15.1) (1.18.5)\n",
            "Requirement already satisfied: koalas in /usr/local/lib/python3.6/dist-packages (1.2.0)\n",
            "Requirement already satisfied: matplotlib<3.3.0,>=3.0.0 in /usr/local/lib/python3.6/dist-packages (from koalas) (3.2.2)\n",
            "Requirement already satisfied: pyarrow>=0.10 in /usr/local/lib/python3.6/dist-packages (from koalas) (0.15.1)\n",
            "Requirement already satisfied: pandas<1.1.0,>=0.23.2 in /usr/local/lib/python3.6/dist-packages (from koalas) (1.0.5)\n",
            "Requirement already satisfied: numpy<1.19.0,>=1.14 in /usr/local/lib/python3.6/dist-packages (from koalas) (1.18.5)\n",
            "Requirement already satisfied: pyparsing!=2.0.4,!=2.1.2,!=2.1.6,>=2.0.1 in /usr/local/lib/python3.6/dist-packages (from matplotlib<3.3.0,>=3.0.0->koalas) (2.4.7)\n",
            "Requirement already satisfied: python-dateutil>=2.1 in /usr/local/lib/python3.6/dist-packages (from matplotlib<3.3.0,>=3.0.0->koalas) (2.8.1)\n",
            "Requirement already satisfied: cycler>=0.10 in /usr/local/lib/python3.6/dist-packages (from matplotlib<3.3.0,>=3.0.0->koalas) (0.10.0)\n",
            "Requirement already satisfied: kiwisolver>=1.0.1 in /usr/local/lib/python3.6/dist-packages (from matplotlib<3.3.0,>=3.0.0->koalas) (1.2.0)\n",
            "Requirement already satisfied: six>=1.0.0 in /usr/local/lib/python3.6/dist-packages (from pyarrow>=0.10->koalas) (1.15.0)\n",
            "Requirement already satisfied: pytz>=2017.2 in /usr/local/lib/python3.6/dist-packages (from pandas<1.1.0,>=0.23.2->koalas) (2018.9)\n"
          ],
          "name": "stdout"
        }
      ]
    },
    {
      "cell_type": "code",
      "metadata": {
        "id": "YutBhw1Jrt61"
      },
      "source": [
        "import numpy as np\n",
        "import pandas as pd\n",
        "import seaborn as sns\n",
        "import matplotlib.pyplot as plt\n",
        "import seaborn as sns\n",
        "import math\n",
        "import databricks.koalas as ks\n",
        "%matplotlib inline\n",
        "import os\n",
        "os.environ[\"PYSPARK_PYTHON\"] = \"python3\""
      ],
      "execution_count": null,
      "outputs": []
    },
    {
      "cell_type": "markdown",
      "metadata": {
        "id": "hXBsNPU_f3nv"
      },
      "source": [
        "# Part 0: Data ETL and Data Exploration\n"
      ]
    },
    {
      "cell_type": "code",
      "metadata": {
        "id": "O9YUV6vkOPLE",
        "colab": {
          "base_uri": "https://localhost:8080/",
          "height": 34
        },
        "outputId": "70460f3d-f5c9-4674-cb44-3fef86264e3f"
      },
      "source": [
        "from google.colab import drive\n",
        "drive.mount('/content/drive')"
      ],
      "execution_count": null,
      "outputs": [
        {
          "output_type": "stream",
          "text": [
            "Mounted at /content/drive\n"
          ],
          "name": "stdout"
        }
      ]
    },
    {
      "cell_type": "code",
      "metadata": {
        "id": "4MkzNyGQt2MC"
      },
      "source": [
        "movies_df = spark.read.load(\"drive/My Drive/movies.csv\", format='csv', header = True)\n",
        "ratings_df = spark.read.load(\"drive/My Drive/ratings.csv\", format='csv', header = True)"
      ],
      "execution_count": null,
      "outputs": []
    },
    {
      "cell_type": "code",
      "metadata": {
        "id": "3dzHpXs3uUuO",
        "colab": {
          "base_uri": "https://localhost:8080/",
          "height": 204
        },
        "outputId": "1ff5db5d-e107-4703-bc38-cd90267ec1ba"
      },
      "source": [
        "movies_df.show(5)"
      ],
      "execution_count": null,
      "outputs": [
        {
          "output_type": "stream",
          "text": [
            "+-------+--------------------+--------------------+\n",
            "|movieId|               title|              genres|\n",
            "+-------+--------------------+--------------------+\n",
            "|      1|    Toy Story (1995)|Adventure|Animati...|\n",
            "|      2|      Jumanji (1995)|Adventure|Childre...|\n",
            "|      3|Grumpier Old Men ...|      Comedy|Romance|\n",
            "|      4|Waiting to Exhale...|Comedy|Drama|Romance|\n",
            "|      5|Father of the Bri...|              Comedy|\n",
            "+-------+--------------------+--------------------+\n",
            "only showing top 5 rows\n",
            "\n"
          ],
          "name": "stdout"
        }
      ]
    },
    {
      "cell_type": "code",
      "metadata": {
        "id": "TGDyXODqubFh",
        "colab": {
          "base_uri": "https://localhost:8080/",
          "height": 204
        },
        "outputId": "d156cedf-260c-42a2-c81e-88784f643f0a"
      },
      "source": [
        "ratings_df.show(5)"
      ],
      "execution_count": null,
      "outputs": [
        {
          "output_type": "stream",
          "text": [
            "+------+-------+------+----------+\n",
            "|userId|movieId|rating| timestamp|\n",
            "+------+-------+------+----------+\n",
            "|     1|    307|   3.5|1256677221|\n",
            "|     1|    481|   3.5|1256677456|\n",
            "|     1|   1091|   1.5|1256677471|\n",
            "|     1|   1257|   4.5|1256677460|\n",
            "|     1|   1449|   4.5|1256677264|\n",
            "+------+-------+------+----------+\n",
            "only showing top 5 rows\n",
            "\n"
          ],
          "name": "stdout"
        }
      ]
    },
    {
      "cell_type": "code",
      "metadata": {
        "id": "o_0LEGaHughN",
        "colab": {
          "base_uri": "https://localhost:8080/",
          "height": 68
        },
        "outputId": "ee40c367-ecb0-460d-ed99-c3fa6d9bf230"
      },
      "source": [
        "tmp1 = ratings_df.groupBy(\"userID\").count().toPandas()['count'].min()\n",
        "tmp2 = ratings_df.groupBy(\"movieId\").count().toPandas()['count'].min()\n",
        "print('For the users that rated movies and the movies that were rated:')\n",
        "print('Minimum number of ratings per user is {}'.format(tmp1))\n",
        "print('Minimum number of ratings per movie is {}'.format(tmp2))"
      ],
      "execution_count": null,
      "outputs": [
        {
          "output_type": "stream",
          "text": [
            "For the users that rated movies and the movies that were rated:\n",
            "Minimum number of ratings per user is 1\n",
            "Minimum number of ratings per movie is 1\n"
          ],
          "name": "stdout"
        }
      ]
    },
    {
      "cell_type": "code",
      "metadata": {
        "id": "zFwpaOcVus1a",
        "colab": {
          "base_uri": "https://localhost:8080/",
          "height": 68
        },
        "outputId": "7508c3c1-6143-4f04-8dbb-767ae80c90ea"
      },
      "source": [
        "%%time\n",
        "tmp1 = sum(ratings_df.groupBy(\"movieId\").count().toPandas()['count'] == 1)\n",
        "tmp2 = ratings_df.select('movieId').distinct().count()\n",
        "print('{} out of {} movies are rated by only one user'.format(tmp1, tmp2))"
      ],
      "execution_count": null,
      "outputs": [
        {
          "output_type": "stream",
          "text": [
            "10155 out of 53889 movies are rated by only one user\n",
            "CPU times: user 446 ms, sys: 105 ms, total: 551 ms\n",
            "Wall time: 1min 2s\n"
          ],
          "name": "stdout"
        }
      ]
    },
    {
      "cell_type": "markdown",
      "metadata": {
        "id": "rkymSSEbvA7M"
      },
      "source": [
        "# Part 1: Spark SQL and OLAP"
      ]
    },
    {
      "cell_type": "markdown",
      "metadata": {
        "id": "ihmbP9fpv_ib"
      },
      "source": [
        "## Q1: The number of Users"
      ]
    },
    {
      "cell_type": "code",
      "metadata": {
        "id": "phseSP6auzuI"
      },
      "source": [
        "movies_df.registerTempTable(\"movies\")\n",
        "ratings_df.registerTempTable(\"ratings\")"
      ],
      "execution_count": null,
      "outputs": []
    },
    {
      "cell_type": "code",
      "metadata": {
        "id": "sOoSThtBvHER",
        "colab": {
          "base_uri": "https://localhost:8080/",
          "height": 119
        },
        "outputId": "6c2e69a0-8856-42b3-900f-6e500325d222"
      },
      "source": [
        "number_of_users = spark.sql(\"\"\"\n",
        "select count(distinct userid) as Number_of_users \n",
        "from ratings\n",
        "\"\"\")\n",
        "number_of_users.show()"
      ],
      "execution_count": null,
      "outputs": [
        {
          "output_type": "stream",
          "text": [
            "+---------------+\n",
            "|Number_of_users|\n",
            "+---------------+\n",
            "|         283228|\n",
            "+---------------+\n",
            "\n"
          ],
          "name": "stdout"
        }
      ]
    },
    {
      "cell_type": "markdown",
      "metadata": {
        "id": "2WaxNB19wQ1b"
      },
      "source": [
        "## Q2: The number of Movies"
      ]
    },
    {
      "cell_type": "code",
      "metadata": {
        "id": "TmxBq-dMvtxy",
        "colab": {
          "base_uri": "https://localhost:8080/",
          "height": 119
        },
        "outputId": "01e81af1-64bc-4ab4-f297-81064bb9ba38"
      },
      "source": [
        "number_of_movies = spark.sql(\"\"\"\n",
        "select count(distinct movieid) as Number_of_movies\n",
        "from movies\n",
        "\"\"\")\n",
        "number_of_movies.show()"
      ],
      "execution_count": null,
      "outputs": [
        {
          "output_type": "stream",
          "text": [
            "+----------------+\n",
            "|Number_of_movies|\n",
            "+----------------+\n",
            "|           58098|\n",
            "+----------------+\n",
            "\n"
          ],
          "name": "stdout"
        }
      ]
    },
    {
      "cell_type": "markdown",
      "metadata": {
        "id": "ilR2lTHVwmJ0"
      },
      "source": [
        "## Q3:  How many movies are rated by users? List movies not rated before"
      ]
    },
    {
      "cell_type": "code",
      "metadata": {
        "id": "OcnOoiLFwh3u",
        "colab": {
          "base_uri": "https://localhost:8080/",
          "height": 153
        },
        "outputId": "6f812771-3ed6-4136-90c1-33532b5f2028"
      },
      "source": [
        "%%time\n",
        "number_of_movies_rated = spark.sql(\"\"\"\n",
        "select count(distinct movieid) as Number_of_movies_rated\n",
        "from ratings\n",
        "\"\"\")\n",
        "number_of_movies_rated.show()"
      ],
      "execution_count": null,
      "outputs": [
        {
          "output_type": "stream",
          "text": [
            "+----------------------+\n",
            "|Number_of_movies_rated|\n",
            "+----------------------+\n",
            "|                 53889|\n",
            "+----------------------+\n",
            "\n",
            "CPU times: user 6.23 ms, sys: 880 µs, total: 7.11 ms\n",
            "Wall time: 29.9 s\n"
          ],
          "name": "stdout"
        }
      ]
    },
    {
      "cell_type": "code",
      "metadata": {
        "id": "sTTnFhAmxHGF",
        "colab": {
          "base_uri": "https://localhost:8080/",
          "height": 493
        },
        "outputId": "d3b96992-9485-45a2-ac2e-d89410f0999b"
      },
      "source": [
        "%%time\n",
        "movies_not_rated = spark.sql(\"\"\"\n",
        "select a.movieid, a.title, a.genres\n",
        "from movies a left join ratings b on a.movieid = b.movieid\n",
        "where b.movieid is Null\n",
        "\"\"\")\n",
        "movies_not_rated.show()"
      ],
      "execution_count": null,
      "outputs": [
        {
          "output_type": "stream",
          "text": [
            "+-------+--------------------+--------------------+\n",
            "|movieid|               title|              genres|\n",
            "+-------+--------------------+--------------------+\n",
            "| 135352|Heroes of the Wes...|  (no genres listed)|\n",
            "| 135901|Count the Hours (...|               Crime|\n",
            "| 138076|Diary of a Tired ...|Comedy|Drama|Romance|\n",
            "| 145275|   Live Wires (1946)|     Action|Thriller|\n",
            "| 151859|Hart to Hart Retu...|Adventure|Crime|M...|\n",
            "| 156821|       Yakeen (1969)|Action|Crime|Myst...|\n",
            "| 159526|Black Cobra Woman...|        Drama|Horror|\n",
            "| 163288|Those Three Frenc...|  (no genres listed)|\n",
            "| 165977|Behind the Make-U...|               Drama|\n",
            "| 174251|     The Cure (1924)|    Animation|Comedy|\n",
            "| 116060|Code Name: Emeral...|    Action|Drama|War|\n",
            "| 117742|     The Fake (1953)|         Crime|Drama|\n",
            "| 123069|Midnight Heat (1996)|Action|Drama|Thri...|\n",
            "| 125469|Till the End of T...|       Drama|Romance|\n",
            "| 132802|Nest of Vipers (1...|       Drama|Romance|\n",
            "| 133189|To Kill A Clown (...|      Drama|Thriller|\n",
            "| 136782|The Girl is in Tr...|            Thriller|\n",
            "| 139289|The Shattering (2...|              Horror|\n",
            "| 151008|The Last Survivor...|               Drama|\n",
            "| 151529|Io bacio... tu ba...|              Comedy|\n",
            "+-------+--------------------+--------------------+\n",
            "only showing top 20 rows\n",
            "\n",
            "CPU times: user 7.51 ms, sys: 1.86 ms, total: 9.37 ms\n",
            "Wall time: 38.3 s\n"
          ],
          "name": "stdout"
        }
      ]
    },
    {
      "cell_type": "code",
      "metadata": {
        "id": "MeAJs1edKl0b",
        "colab": {
          "base_uri": "https://localhost:8080/",
          "height": 476
        },
        "outputId": "6af61dfd-f3c7-440d-8eda-10cd5bf4526e"
      },
      "source": [
        "%%time\n",
        "# list top 20 movies received the highest numer of rating, number_of_ratings, and avg_rating\n",
        "highest_number = spark.sql(\"\"\"\n",
        "select a.movieid, a.title, a.genres, b.number_of_ratings, b.avg_rating\n",
        "from movies a\n",
        "join\n",
        "(select movieid, count(*) as number_of_ratings, avg(rating) as avg_rating\n",
        "from ratings\n",
        "group by movieid\n",
        "order by number_of_ratings desc\n",
        "limit 20) b on a.movieid = b.movieid\n",
        "order by number_of_ratings desc\n",
        "\"\"\")\n",
        "highest_number.show()"
      ],
      "execution_count": null,
      "outputs": [
        {
          "output_type": "stream",
          "text": [
            "+-------+--------------------+--------------------+-----------------+------------------+\n",
            "|movieid|               title|              genres|number_of_ratings|        avg_rating|\n",
            "+-------+--------------------+--------------------+-----------------+------------------+\n",
            "|    318|Shawshank Redempt...|         Crime|Drama|            97999| 4.424188001918387|\n",
            "|    356| Forrest Gump (1994)|Comedy|Drama|Roma...|            97040| 4.056584913437757|\n",
            "|    296| Pulp Fiction (1994)|Comedy|Crime|Dram...|            92406| 4.173971387139363|\n",
            "|    593|Silence of the La...|Crime|Horror|Thri...|            87899|  4.15141241652351|\n",
            "|   2571|  Matrix, The (1999)|Action|Sci-Fi|Thr...|            84545| 4.149695428470046|\n",
            "|    260|Star Wars: Episod...|Action|Adventure|...|            81815| 4.120454684348836|\n",
            "|    480|Jurassic Park (1993)|Action|Adventure|...|            76451|3.6650338125073576|\n",
            "|    527|Schindler's List ...|           Drama|War|            71516| 4.257501817775044|\n",
            "|    110|   Braveheart (1995)|    Action|Drama|War|            68803| 4.008480734851678|\n",
            "|      1|    Toy Story (1995)|Adventure|Animati...|            68469|3.8866494325899312|\n",
            "|   1210|Star Wars: Episod...|Action|Adventure|...|            66023| 3.986042742680581|\n",
            "|   1196|Star Wars: Episod...|Action|Adventure|...|            65822| 4.133481206891313|\n",
            "|   2959|   Fight Club (1999)|Action|Crime|Dram...|            65678| 4.230663235786717|\n",
            "|    589|Terminator 2: Jud...|       Action|Sci-Fi|            64258|3.9415014472906096|\n",
            "|   1198|Raiders of the Lo...|    Action|Adventure|            63505| 4.120455082276986|\n",
            "|     50|Usual Suspects, T...|Crime|Mystery|Thr...|            62180| 4.291958829205532|\n",
            "|   4993|Lord of the Rings...|   Adventure|Fantasy|            61883|4.0979428922321155|\n",
            "|    858|Godfather, The (1...|         Crime|Drama|            60904| 4.332892749244713|\n",
            "|   2858|American Beauty (...|       Drama|Romance|            60820| 4.121506083525156|\n",
            "|    780|Independence Day ...|Action|Adventure|...|            58949|3.3971653463163074|\n",
            "+-------+--------------------+--------------------+-----------------+------------------+\n",
            "\n",
            "CPU times: user 9.03 ms, sys: 550 µs, total: 9.58 ms\n",
            "Wall time: 40.1 s\n"
          ],
          "name": "stdout"
        }
      ]
    },
    {
      "cell_type": "markdown",
      "metadata": {
        "id": "SpvqGYTNxaP6"
      },
      "source": [
        "## Q4. List movie genres"
      ]
    },
    {
      "cell_type": "code",
      "metadata": {
        "id": "MPGcaoVpxWXm",
        "colab": {
          "base_uri": "https://localhost:8080/",
          "height": 459
        },
        "outputId": "e5a54e84-0794-46d8-aa01-06b2dd4bc3a9"
      },
      "source": [
        "genres = spark.sql(\"\"\"\n",
        "select distinct genres\n",
        "from movies\n",
        "\"\"\")\n",
        "genres.show()"
      ],
      "execution_count": null,
      "outputs": [
        {
          "output_type": "stream",
          "text": [
            "+--------------------+\n",
            "|              genres|\n",
            "+--------------------+\n",
            "|Comedy|Horror|Thr...|\n",
            "|Adventure|Sci-Fi|...|\n",
            "|Action|Adventure|...|\n",
            "| Action|Drama|Horror|\n",
            "|Comedy|Drama|Horr...|\n",
            "|Action|Animation|...|\n",
            "|Fantasy|Musical|M...|\n",
            "|Adventure|Mystery...|\n",
            "|Children|Comedy|D...|\n",
            "|Action|Adventure|...|\n",
            "|Animation|Childre...|\n",
            "|Action|Adventure|...|\n",
            "| Adventure|Animation|\n",
            "|    Adventure|Sci-Fi|\n",
            "|Documentary|Music...|\n",
            "|  Documentary|Sci-Fi|\n",
            "|Adventure|Childre...|\n",
            "|Action|Adventure|...|\n",
            "|Comedy|Drama|Fant...|\n",
            "| Musical|Romance|War|\n",
            "+--------------------+\n",
            "only showing top 20 rows\n",
            "\n"
          ],
          "name": "stdout"
        }
      ]
    },
    {
      "cell_type": "code",
      "metadata": {
        "id": "SI3bP_s2xsKo",
        "colab": {
          "base_uri": "https://localhost:8080/",
          "height": 476
        },
        "outputId": "90c7eda4-1c61-45a4-850f-7ab61366db97"
      },
      "source": [
        "%%time\n",
        "genres_splitted =  spark.sql(\"\"\"\n",
        "select distinct explode(split(genres, '[|]')) as Category\n",
        "from movies\n",
        "order by 1\n",
        "\"\"\")\n",
        "genres_splitted.show()"
      ],
      "execution_count": null,
      "outputs": [
        {
          "output_type": "stream",
          "text": [
            "+------------------+\n",
            "|          Category|\n",
            "+------------------+\n",
            "|(no genres listed)|\n",
            "|            Action|\n",
            "|         Adventure|\n",
            "|         Animation|\n",
            "|          Children|\n",
            "|            Comedy|\n",
            "|             Crime|\n",
            "|       Documentary|\n",
            "|             Drama|\n",
            "|           Fantasy|\n",
            "|         Film-Noir|\n",
            "|            Horror|\n",
            "|              IMAX|\n",
            "|           Musical|\n",
            "|           Mystery|\n",
            "|           Romance|\n",
            "|            Sci-Fi|\n",
            "|          Thriller|\n",
            "|               War|\n",
            "|           Western|\n",
            "+------------------+\n",
            "\n",
            "CPU times: user 1.33 ms, sys: 18 µs, total: 1.35 ms\n",
            "Wall time: 1.55 s\n"
          ],
          "name": "stdout"
        }
      ]
    },
    {
      "cell_type": "markdown",
      "metadata": {
        "id": "XwORM6zwx_Dl"
      },
      "source": [
        "## Q5: Movie for Each Category"
      ]
    },
    {
      "cell_type": "code",
      "metadata": {
        "id": "QWMlZrujx7C7",
        "colab": {
          "base_uri": "https://localhost:8080/",
          "height": 493
        },
        "outputId": "f8b33c07-47e0-4908-97d8-c473db44c46a"
      },
      "source": [
        "%%time\n",
        "movie_category = spark.sql(\"\"\"\n",
        "select movieid, explode(split(genres, '[|]')) as Category\n",
        "from movies\n",
        "\"\"\")\n",
        "movie_category.show()"
      ],
      "execution_count": null,
      "outputs": [
        {
          "output_type": "stream",
          "text": [
            "+-------+---------+\n",
            "|movieid| Category|\n",
            "+-------+---------+\n",
            "|      1|Adventure|\n",
            "|      1|Animation|\n",
            "|      1| Children|\n",
            "|      1|   Comedy|\n",
            "|      1|  Fantasy|\n",
            "|      2|Adventure|\n",
            "|      2| Children|\n",
            "|      2|  Fantasy|\n",
            "|      3|   Comedy|\n",
            "|      3|  Romance|\n",
            "|      4|   Comedy|\n",
            "|      4|    Drama|\n",
            "|      4|  Romance|\n",
            "|      5|   Comedy|\n",
            "|      6|   Action|\n",
            "|      6|    Crime|\n",
            "|      6| Thriller|\n",
            "|      7|   Comedy|\n",
            "|      7|  Romance|\n",
            "|      8|Adventure|\n",
            "+-------+---------+\n",
            "only showing top 20 rows\n",
            "\n",
            "CPU times: user 2.04 ms, sys: 0 ns, total: 2.04 ms\n",
            "Wall time: 155 ms\n"
          ],
          "name": "stdout"
        }
      ]
    },
    {
      "cell_type": "code",
      "metadata": {
        "id": "hGqZl3k_yQ3-",
        "colab": {
          "base_uri": "https://localhost:8080/",
          "height": 442
        },
        "outputId": "61040a31-8175-4d6c-8153-8a9b61952286"
      },
      "source": [
        "number_per_category =  spark.sql(\"\"\"\n",
        "select Category, count(*) as number\n",
        "from (select movieid, explode(split(genres, '[|]')) as Category from movies)\n",
        "group by 1\n",
        "order by 1\n",
        "\"\"\")\n",
        "number_per_category.show()"
      ],
      "execution_count": null,
      "outputs": [
        {
          "output_type": "stream",
          "text": [
            "+------------------+------+\n",
            "|          Category|number|\n",
            "+------------------+------+\n",
            "|(no genres listed)|  4266|\n",
            "|            Action|  7130|\n",
            "|         Adventure|  4067|\n",
            "|         Animation|  2663|\n",
            "|          Children|  2749|\n",
            "|            Comedy| 15956|\n",
            "|             Crime|  5105|\n",
            "|       Documentary|  5118|\n",
            "|             Drama| 24144|\n",
            "|           Fantasy|  2637|\n",
            "|         Film-Noir|   364|\n",
            "|            Horror|  5555|\n",
            "|              IMAX|   197|\n",
            "|           Musical|  1113|\n",
            "|           Mystery|  2773|\n",
            "|           Romance|  7412|\n",
            "|            Sci-Fi|  3444|\n",
            "|          Thriller|  8216|\n",
            "|               War|  1820|\n",
            "|           Western|  1378|\n",
            "+------------------+------+\n",
            "\n"
          ],
          "name": "stdout"
        }
      ]
    },
    {
      "cell_type": "code",
      "metadata": {
        "id": "2LSE9jRCysdB",
        "colab": {
          "base_uri": "https://localhost:8080/",
          "height": 442
        },
        "outputId": "fbcb9c47-0bf6-433d-afe9-f68f91570817"
      },
      "source": [
        "list_of_movies =  spark.sql(\"\"\"\n",
        "select Category, concat_ws(',', collect_set(title)) as list_of_movies\n",
        "from (select title, explode(split(genres, '[|]')) as Category from movies)\n",
        "group by 1\n",
        "\"\"\")\n",
        "list_of_movies.show()"
      ],
      "execution_count": null,
      "outputs": [
        {
          "output_type": "stream",
          "text": [
            "+------------------+--------------------+\n",
            "|          Category|      list_of_movies|\n",
            "+------------------+--------------------+\n",
            "|             Crime|Hot Rock, The (19...|\n",
            "|           Romance|Brain Drain (2009...|\n",
            "|          Thriller|The Sleeper (2012...|\n",
            "|         Adventure|Masters of the Un...|\n",
            "|             Drama|My Life (1993),Al...|\n",
            "|               War|PT 109 (1963),Sol...|\n",
            "|       Documentary|U2: Rattle and Hu...|\n",
            "|           Fantasy|Masters of the Un...|\n",
            "|           Mystery|Manila in the Cla...|\n",
            "|           Musical|U2: Rattle and Hu...|\n",
            "|         Animation|Bugs in Love (193...|\n",
            "|         Film-Noir|Thieves' Highway ...|\n",
            "|(no genres listed)|The Youth of Maxi...|\n",
            "|              IMAX|Harry Potter and ...|\n",
            "|            Horror|The Sleeper (2012...|\n",
            "|           Western|The Maverick Quee...|\n",
            "|            Comedy|The Sleeper (2012...|\n",
            "|          Children|Home on the Range...|\n",
            "|            Action|Masters of the Un...|\n",
            "|            Sci-Fi|Mosquito (1995),S...|\n",
            "+------------------+--------------------+\n",
            "\n"
          ],
          "name": "stdout"
        }
      ]
    },
    {
      "cell_type": "markdown",
      "metadata": {
        "id": "nZYSrANlzHPA"
      },
      "source": [
        "# Part2: Train ALS model using Spark ML "
      ]
    },
    {
      "cell_type": "code",
      "metadata": {
        "id": "s6QyDIEoy76I",
        "colab": {
          "base_uri": "https://localhost:8080/",
          "height": 459
        },
        "outputId": "ce638b98-3429-473a-84d0-4deea4765c74"
      },
      "source": [
        "ratings_df.show()"
      ],
      "execution_count": null,
      "outputs": [
        {
          "output_type": "stream",
          "text": [
            "+------+-------+------+----------+\n",
            "|userId|movieId|rating| timestamp|\n",
            "+------+-------+------+----------+\n",
            "|     1|    307|   3.5|1256677221|\n",
            "|     1|    481|   3.5|1256677456|\n",
            "|     1|   1091|   1.5|1256677471|\n",
            "|     1|   1257|   4.5|1256677460|\n",
            "|     1|   1449|   4.5|1256677264|\n",
            "|     1|   1590|   2.5|1256677236|\n",
            "|     1|   1591|   1.5|1256677475|\n",
            "|     1|   2134|   4.5|1256677464|\n",
            "|     1|   2478|   4.0|1256677239|\n",
            "|     1|   2840|   3.0|1256677500|\n",
            "|     1|   2986|   2.5|1256677496|\n",
            "|     1|   3020|   4.0|1256677260|\n",
            "|     1|   3424|   4.5|1256677444|\n",
            "|     1|   3698|   3.5|1256677243|\n",
            "|     1|   3826|   2.0|1256677210|\n",
            "|     1|   3893|   3.5|1256677486|\n",
            "|     2|    170|   3.5|1192913581|\n",
            "|     2|    849|   3.5|1192913537|\n",
            "|     2|   1186|   3.5|1192913611|\n",
            "|     2|   1235|   3.0|1192913585|\n",
            "+------+-------+------+----------+\n",
            "only showing top 20 rows\n",
            "\n"
          ],
          "name": "stdout"
        }
      ]
    },
    {
      "cell_type": "code",
      "metadata": {
        "id": "EehoY9AKzPio"
      },
      "source": [
        "movie_ratings=ratings_df.drop('timestamp')"
      ],
      "execution_count": null,
      "outputs": []
    },
    {
      "cell_type": "code",
      "metadata": {
        "id": "hCWbw5aKzR7k"
      },
      "source": [
        "# Data type convert\n",
        "from pyspark.sql.types import IntegerType, FloatType\n",
        "movie_ratings = movie_ratings.withColumn(\"userId\", movie_ratings[\"userId\"].cast(IntegerType()))\n",
        "movie_ratings = movie_ratings.withColumn(\"movieId\", movie_ratings[\"movieId\"].cast(IntegerType()))\n",
        "movie_ratings = movie_ratings.withColumn(\"rating\", movie_ratings[\"rating\"].cast(FloatType()))"
      ],
      "execution_count": null,
      "outputs": []
    },
    {
      "cell_type": "code",
      "metadata": {
        "id": "l402TkmjWI0S",
        "colab": {
          "base_uri": "https://localhost:8080/",
          "height": 68
        },
        "outputId": "042090f2-c382-4035-e0e9-263c3bcda5f8"
      },
      "source": [
        "%%time\n",
        "movie_ratings.count()"
      ],
      "execution_count": null,
      "outputs": [
        {
          "output_type": "stream",
          "text": [
            "CPU times: user 9.73 ms, sys: 1.02 ms, total: 10.8 ms\n",
            "Wall time: 10.1 s\n"
          ],
          "name": "stdout"
        },
        {
          "output_type": "execute_result",
          "data": {
            "text/plain": [
              "27753444"
            ]
          },
          "metadata": {
            "tags": []
          },
          "execution_count": 62
        }
      ]
    },
    {
      "cell_type": "code",
      "metadata": {
        "id": "ZtDmDMEFzcUd",
        "colab": {
          "base_uri": "https://localhost:8080/",
          "height": 459
        },
        "outputId": "050db3fd-6ee8-4f56-ca0b-f73f9a120ecb"
      },
      "source": [
        "movie_ratings.show()"
      ],
      "execution_count": null,
      "outputs": [
        {
          "output_type": "stream",
          "text": [
            "+------+-------+------+\n",
            "|userId|movieId|rating|\n",
            "+------+-------+------+\n",
            "|     1|    307|   3.5|\n",
            "|     1|    481|   3.5|\n",
            "|     1|   1091|   1.5|\n",
            "|     1|   1257|   4.5|\n",
            "|     1|   1449|   4.5|\n",
            "|     1|   1590|   2.5|\n",
            "|     1|   1591|   1.5|\n",
            "|     1|   2134|   4.5|\n",
            "|     1|   2478|   4.0|\n",
            "|     1|   2840|   3.0|\n",
            "|     1|   2986|   2.5|\n",
            "|     1|   3020|   4.0|\n",
            "|     1|   3424|   4.5|\n",
            "|     1|   3698|   3.5|\n",
            "|     1|   3826|   2.0|\n",
            "|     1|   3893|   3.5|\n",
            "|     2|    170|   3.5|\n",
            "|     2|    849|   3.5|\n",
            "|     2|   1186|   3.5|\n",
            "|     2|   1235|   3.0|\n",
            "+------+-------+------+\n",
            "only showing top 20 rows\n",
            "\n"
          ],
          "name": "stdout"
        }
      ]
    },
    {
      "cell_type": "markdown",
      "metadata": {
        "id": "pX5sIV0kziKV"
      },
      "source": [
        "## ALS Model Selection and Cross Validation"
      ]
    },
    {
      "cell_type": "code",
      "metadata": {
        "id": "63R7jHlPze_Z"
      },
      "source": [
        "# import package\n",
        "from pyspark.ml.evaluation import RegressionEvaluator\n",
        "from pyspark.ml.recommendation import ALS, ALSModel\n",
        "from pyspark.ml.tuning import CrossValidator,ParamGridBuilder"
      ],
      "execution_count": null,
      "outputs": []
    },
    {
      "cell_type": "code",
      "metadata": {
        "id": "vyoVqEmxznty"
      },
      "source": [
        "#Create test and train set\n",
        "(training,test)=movie_ratings.randomSplit([0.8,0.2])"
      ],
      "execution_count": null,
      "outputs": []
    },
    {
      "cell_type": "code",
      "metadata": {
        "id": "5ke6hKMgzp-y"
      },
      "source": [
        "#Create ALS model\n",
        "als = ALS(userCol = 'userId', itemCol = 'movieId', ratingCol = 'rating', coldStartStrategy='drop', seed = 42)"
      ],
      "execution_count": null,
      "outputs": []
    },
    {
      "cell_type": "code",
      "metadata": {
        "id": "1xcwiPFDz0ZL"
      },
      "source": [
        "#Tune model using ParamGridBuilder\n",
        "paramGrid = (ParamGridBuilder()\n",
        "            .addGrid(als.rank, [10, 20])\n",
        "            .addGrid(als.maxIter, [5, 10])\n",
        "            .addGrid(als.regParam, [0.05, 0.1])\n",
        "            .build())"
      ],
      "execution_count": null,
      "outputs": []
    },
    {
      "cell_type": "code",
      "metadata": {
        "id": "CX-NzB0X0Jyv"
      },
      "source": [
        "# Define evaluator as RMSE\n",
        "from pyspark.ml.evaluation import RegressionEvaluator\n",
        "evaluator = RegressionEvaluator(metricName='rmse', predictionCol='prediction', labelCol='rating')\n"
      ],
      "execution_count": null,
      "outputs": []
    },
    {
      "cell_type": "code",
      "metadata": {
        "id": "phBI-rMZ0L5i"
      },
      "source": [
        "# Build Cross validation \n",
        "cv = CrossValidator(estimator=als, estimatorParamMaps=paramGrid, evaluator=evaluator, numFolds=5, seed = 42)"
      ],
      "execution_count": null,
      "outputs": []
    },
    {
      "cell_type": "code",
      "metadata": {
        "id": "iz83099T0OHX",
        "colab": {
          "base_uri": "https://localhost:8080/",
          "height": 51
        },
        "outputId": "a2c02b88-1bca-4fcf-a336-6a6fbeda5bde"
      },
      "source": [
        "%%time\n",
        "#Fit ALS model to training data\n",
        "cvModel = cv.fit(training)"
      ],
      "execution_count": null,
      "outputs": [
        {
          "output_type": "stream",
          "text": [
            "CPU times: user 8.43 s, sys: 1.22 s, total: 9.66 s\n",
            "Wall time: 2h 2min 48s\n"
          ],
          "name": "stdout"
        }
      ]
    },
    {
      "cell_type": "code",
      "metadata": {
        "id": "F1S0DgOK0RKv"
      },
      "source": [
        "#Extract best model from the tuning exercise using ParamGridBuilder\n",
        "best_model = cvModel.bestModel"
      ],
      "execution_count": null,
      "outputs": []
    },
    {
      "cell_type": "code",
      "metadata": {
        "id": "V6eK0FdE4wlr"
      },
      "source": [
        "# save best_model\n",
        "best_model.save('drive/My Drive/best_model')\n",
        "# best_model = ALSmodel.load('drive/My Drive/saved_model')\n"
      ],
      "execution_count": null,
      "outputs": []
    },
    {
      "cell_type": "markdown",
      "metadata": {
        "id": "OP-QFCS92TMj"
      },
      "source": [
        "# Part3: Model Evaluation"
      ]
    },
    {
      "cell_type": "code",
      "metadata": {
        "id": "kv_1JMvt2Vey",
        "colab": {
          "base_uri": "https://localhost:8080/",
          "height": 34
        },
        "outputId": "16ba4138-4acc-4c86-9f00-3856baef941f"
      },
      "source": [
        "#Generate predictions and evaluate using RMSE\n",
        "predictions=best_model.transform(test)\n",
        "rmse = evaluator.evaluate(predictions)\n",
        "rmse"
      ],
      "execution_count": null,
      "outputs": [
        {
          "output_type": "execute_result",
          "data": {
            "text/plain": [
              "0.8017025752963514"
            ]
          },
          "metadata": {
            "tags": []
          },
          "execution_count": 40
        }
      ]
    },
    {
      "cell_type": "code",
      "metadata": {
        "id": "USJ2AZxR2ceW",
        "colab": {
          "base_uri": "https://localhost:8080/",
          "height": 102
        },
        "outputId": "b96509db-0fea-4e46-9fbb-75c9b3ff3eeb"
      },
      "source": [
        "#Print evaluation metrics and model parameters\n",
        "print (\"RMSE = \"+str(rmse))\n",
        "print (\"**Best Model**\")\n",
        "print (\" Rank:\", best_model._java_obj.parent().getRank())\n",
        "print (\" MaxIter:\", best_model._java_obj.parent().getMaxIter()) \n",
        "print (\" RegParam:\", best_model._java_obj.parent().getRegParam())"
      ],
      "execution_count": null,
      "outputs": [
        {
          "output_type": "stream",
          "text": [
            "RMSE = 0.8017025752963514\n",
            "**Best Model**\n",
            " Rank: 20\n",
            " MaxIter: 10\n",
            " RegParam: 0.05\n"
          ],
          "name": "stdout"
        }
      ]
    },
    {
      "cell_type": "code",
      "metadata": {
        "id": "ElEnTxvI2fTa",
        "colab": {
          "base_uri": "https://localhost:8080/",
          "height": 459
        },
        "outputId": "3980f901-a527-4760-8013-40c5e1b69933"
      },
      "source": [
        "predictions.show()"
      ],
      "execution_count": null,
      "outputs": [
        {
          "output_type": "stream",
          "text": [
            "+------+-------+------+----------+\n",
            "|userId|movieId|rating|prediction|\n",
            "+------+-------+------+----------+\n",
            "|107339|    148|   4.0| 3.2779598|\n",
            "| 93112|    148|   3.0| 2.7392113|\n",
            "|207939|    148|   3.0| 2.5178525|\n",
            "| 60382|    148|   4.0| 3.1443737|\n",
            "|211963|    148|   3.0| 2.1486604|\n",
            "| 52772|    148|   3.0| 3.4739225|\n",
            "|167692|    148|   3.0| 3.6178567|\n",
            "|149383|    148|   3.0| 2.5317852|\n",
            "| 73492|    148|   0.5|  2.672189|\n",
            "|  8264|    148|   1.0| 2.2764797|\n",
            "| 46427|    148|   3.0| 2.6688888|\n",
            "|263797|    148|   3.0| 2.9111385|\n",
            "|274916|    148|   4.0| 3.3579824|\n",
            "|233502|    148|   4.0| 2.8918853|\n",
            "|188347|    148|   3.0| 2.7162554|\n",
            "| 87619|    148|   3.0| 2.4214826|\n",
            "|160910|    148|   3.0| 3.4012394|\n",
            "|235384|    148|   2.0| 2.4509559|\n",
            "|115125|    148|   2.0| 2.6773906|\n",
            "|263125|    148|   1.0|  2.753273|\n",
            "+------+-------+------+----------+\n",
            "only showing top 20 rows\n",
            "\n"
          ],
          "name": "stdout"
        }
      ]
    },
    {
      "cell_type": "code",
      "metadata": {
        "id": "2ZaTqzSF2hZJ",
        "colab": {
          "base_uri": "https://localhost:8080/",
          "height": 34
        },
        "outputId": "9371cb80-0c84-4605-c156-4ff02f111dc1"
      },
      "source": [
        "# Evaluate model use all data\n",
        "alldata=best_model.transform(movie_ratings)\n",
        "rmse = evaluator.evaluate(alldata)\n",
        "print (\"RMSE = \"+str(rmse))"
      ],
      "execution_count": null,
      "outputs": [
        {
          "output_type": "stream",
          "text": [
            "RMSE = 0.7151870553776468\n"
          ],
          "name": "stdout"
        }
      ]
    },
    {
      "cell_type": "code",
      "metadata": {
        "id": "hhHf7Bq32sDC"
      },
      "source": [
        "alldata.registerTempTable(\"alldata\")"
      ],
      "execution_count": null,
      "outputs": []
    },
    {
      "cell_type": "code",
      "metadata": {
        "id": "KLMRm6EeMfjY",
        "colab": {
          "base_uri": "https://localhost:8080/",
          "height": 459
        },
        "outputId": "39ed4b9f-a0b1-419d-e6b1-3402889f04d8"
      },
      "source": [
        "all_data = spark.sql('select * from alldata')\n",
        "all_data.show()"
      ],
      "execution_count": null,
      "outputs": [
        {
          "output_type": "stream",
          "text": [
            "+------+-------+------+----------+\n",
            "|userId|movieId|rating|prediction|\n",
            "+------+-------+------+----------+\n",
            "|107339|    148|   4.0| 3.2779598|\n",
            "| 93112|    148|   3.0| 2.7392113|\n",
            "|106148|    148|   2.5|  2.862426|\n",
            "|234926|    148|   4.0| 3.0685127|\n",
            "|253535|    148|   4.0| 2.9279442|\n",
            "| 50155|    148|   3.0| 3.0381732|\n",
            "| 65991|    148|   4.0|  3.168431|\n",
            "|146376|    148|   5.0|  4.170856|\n",
            "|207939|    148|   3.0| 2.5178525|\n",
            "| 41788|    148|   3.0| 3.0288837|\n",
            "|220572|    148|   2.0| 2.7837794|\n",
            "|244192|    148|   3.0| 3.0964794|\n",
            "|273242|    148|   4.0| 3.3510816|\n",
            "| 52620|    148|   1.0| 2.4853115|\n",
            "| 98426|    148|   3.0| 2.1869304|\n",
            "|102642|    148|   4.0| 3.5956018|\n",
            "|108082|    148|   3.0| 2.8170261|\n",
            "|264081|    148|   3.0| 2.9015353|\n",
            "| 60382|    148|   4.0| 3.1443737|\n",
            "|275860|    148|   3.0| 2.4927943|\n",
            "+------+-------+------+----------+\n",
            "only showing top 20 rows\n",
            "\n"
          ],
          "name": "stdout"
        }
      ]
    },
    {
      "cell_type": "code",
      "metadata": {
        "id": "0DWIV4PKMiZg",
        "colab": {
          "base_uri": "https://localhost:8080/",
          "height": 493
        },
        "outputId": "98804ac4-e33d-438f-cbb2-49c081322fd5"
      },
      "source": [
        "%%time\n",
        "all_movie = spark.sql('select * from movies join alldata on movies.movieId=alldata.movieId') \n",
        "all_movie.show()"
      ],
      "execution_count": null,
      "outputs": [
        {
          "output_type": "stream",
          "text": [
            "+-------+--------------------+------+------+-------+------+----------+\n",
            "|movieId|               title|genres|userId|movieId|rating|prediction|\n",
            "+-------+--------------------+------+------+-------+------+----------+\n",
            "|    148|Awfully Big Adven...| Drama|107339|    148|   4.0| 3.2779598|\n",
            "|    148|Awfully Big Adven...| Drama| 93112|    148|   3.0| 2.7392113|\n",
            "|    148|Awfully Big Adven...| Drama|106148|    148|   2.5|  2.862426|\n",
            "|    148|Awfully Big Adven...| Drama|234926|    148|   4.0| 3.0685127|\n",
            "|    148|Awfully Big Adven...| Drama|253535|    148|   4.0| 2.9279442|\n",
            "|    148|Awfully Big Adven...| Drama| 50155|    148|   3.0| 3.0381732|\n",
            "|    148|Awfully Big Adven...| Drama| 65991|    148|   4.0|  3.168431|\n",
            "|    148|Awfully Big Adven...| Drama|146376|    148|   5.0|  4.170856|\n",
            "|    148|Awfully Big Adven...| Drama|207939|    148|   3.0| 2.5178525|\n",
            "|    148|Awfully Big Adven...| Drama| 41788|    148|   3.0| 3.0288837|\n",
            "|    148|Awfully Big Adven...| Drama|220572|    148|   2.0| 2.7837794|\n",
            "|    148|Awfully Big Adven...| Drama|244192|    148|   3.0| 3.0964794|\n",
            "|    148|Awfully Big Adven...| Drama|273242|    148|   4.0| 3.3510816|\n",
            "|    148|Awfully Big Adven...| Drama| 52620|    148|   1.0| 2.4853115|\n",
            "|    148|Awfully Big Adven...| Drama| 98426|    148|   3.0| 2.1869304|\n",
            "|    148|Awfully Big Adven...| Drama|102642|    148|   4.0| 3.5956018|\n",
            "|    148|Awfully Big Adven...| Drama|108082|    148|   3.0| 2.8170261|\n",
            "|    148|Awfully Big Adven...| Drama|264081|    148|   3.0| 2.9015353|\n",
            "|    148|Awfully Big Adven...| Drama| 60382|    148|   4.0| 3.1443737|\n",
            "|    148|Awfully Big Adven...| Drama|275860|    148|   3.0| 2.4927943|\n",
            "+-------+--------------------+------+------+-------+------+----------+\n",
            "only showing top 20 rows\n",
            "\n",
            "CPU times: user 78.1 ms, sys: 11.2 ms, total: 89.3 ms\n",
            "Wall time: 1min 25s\n"
          ],
          "name": "stdout"
        }
      ]
    },
    {
      "cell_type": "markdown",
      "metadata": {
        "id": "vl6BcnIf3obG"
      },
      "source": [
        "# Part4: ALS model apply"
      ]
    },
    {
      "cell_type": "markdown",
      "metadata": {
        "id": "RsIJiP5z21r3"
      },
      "source": [
        "## Recommend movie to users with id: 575, 232"
      ]
    },
    {
      "cell_type": "code",
      "metadata": {
        "id": "QJO8tHb02tqP",
        "colab": {
          "base_uri": "https://localhost:8080/",
          "height": 493
        },
        "outputId": "639f6db6-e3e8-4a21-9e68-9f1bc4d5c833"
      },
      "source": [
        "%%time\n",
        "userSubset = spark.sql(\"\"\"\n",
        "select *\n",
        "from alldata\n",
        "where userid in ('575', '232')\n",
        "\"\"\")\n",
        "userSubset.show()"
      ],
      "execution_count": null,
      "outputs": [
        {
          "output_type": "stream",
          "text": [
            "+------+-------+------+----------+\n",
            "|userId|movieId|rating|prediction|\n",
            "+------+-------+------+----------+\n",
            "|   575|   2025|   1.0| 1.6193321|\n",
            "|   232|   3028|   3.0|  3.091841|\n",
            "|   232|     34|   5.0| 4.4874616|\n",
            "|   232| 120474|   5.0| 2.9531176|\n",
            "|   232|     26|   4.5|  4.016177|\n",
            "|   232|     27|   5.0| 4.2145863|\n",
            "|   575|   2857|   3.5|  2.974967|\n",
            "|   575|   2409|   0.5| 1.0256069|\n",
            "|   232|     22|   3.0| 3.0903065|\n",
            "|   575|   7160|   4.5| 3.4142458|\n",
            "|   575|   5388|   3.5| 2.2770367|\n",
            "|   575|  48394|   3.0| 3.2603304|\n",
            "|   575|  31410|   4.0| 3.3853567|\n",
            "|   232|  78499|   4.0| 4.0309086|\n",
            "|   232|      1|   5.0| 4.0945096|\n",
            "|   232|     13|   4.0| 3.8664474|\n",
            "|   575|  44555|   3.0|  4.089219|\n",
            "|   232|   3723|   4.0| 3.2453837|\n",
            "|   575|   4857|   3.0| 3.0880516|\n",
            "|   232| 106022|   3.0| 2.7590058|\n",
            "+------+-------+------+----------+\n",
            "only showing top 20 rows\n",
            "\n",
            "CPU times: user 34.9 ms, sys: 7.77 ms, total: 42.7 ms\n",
            "Wall time: 41.2 s\n"
          ],
          "name": "stdout"
        }
      ]
    },
    {
      "cell_type": "code",
      "metadata": {
        "id": "lMQTxfpJ9Mk9",
        "colab": {
          "base_uri": "https://localhost:8080/",
          "height": 170
        },
        "outputId": "59bccc0b-4cec-4f2f-d421-ebe4dfabe2ca"
      },
      "source": [
        "%%time\n",
        "movie_recommendation1 = best_model.recommendForUserSubset(userSubset, 10)\n",
        "movie_recommendation1.show()"
      ],
      "execution_count": null,
      "outputs": [
        {
          "output_type": "stream",
          "text": [
            "+------+--------------------+\n",
            "|userId|     recommendations|\n",
            "+------+--------------------+\n",
            "|   232|[[150268, 6.25494...|\n",
            "|   575|[[58409, 6.533530...|\n",
            "+------+--------------------+\n",
            "\n",
            "CPU times: user 66.6 ms, sys: 10 ms, total: 76.6 ms\n",
            "Wall time: 1min 13s\n"
          ],
          "name": "stdout"
        }
      ]
    },
    {
      "cell_type": "code",
      "metadata": {
        "id": "Zv3c2lFb-BNN",
        "colab": {
          "base_uri": "https://localhost:8080/",
          "height": 51
        },
        "outputId": "6ba03aee-ae4c-4400-92ae-2700b0959c5e"
      },
      "source": [
        "%%time\n",
        "movie_recommendation1.createOrReplaceTempView(\"movie_recom1\")"
      ],
      "execution_count": null,
      "outputs": [
        {
          "output_type": "stream",
          "text": [
            "CPU times: user 1.34 ms, sys: 0 ns, total: 1.34 ms\n",
            "Wall time: 39.1 ms\n"
          ],
          "name": "stdout"
        }
      ]
    },
    {
      "cell_type": "code",
      "metadata": {
        "id": "7WAQ90HD-Rr1",
        "colab": {
          "base_uri": "https://localhost:8080/",
          "height": 476
        },
        "outputId": "0a3d0a96-5263-4fb4-8bc3-7efd07637420"
      },
      "source": [
        "%%time\n",
        "movie_recommendation2 = spark.sql(\"\"\"\n",
        "select userid, explode(movie_recom1.recommendations) as recommendations\n",
        "from movie_recom1\n",
        "\"\"\")\n",
        "movie_recommendation2.show()"
      ],
      "execution_count": null,
      "outputs": [
        {
          "output_type": "stream",
          "text": [
            "+------+-------------------+\n",
            "|userid|    recommendations|\n",
            "+------+-------------------+\n",
            "|   232|[150268, 6.2549453]|\n",
            "|   232|  [79045, 6.094378]|\n",
            "|   232|  [73826, 6.088421]|\n",
            "|   232| [179115, 5.896111]|\n",
            "|   232|[154921, 5.8046684]|\n",
            "|   232|    [3228, 5.76131]|\n",
            "|   232| [125938, 5.741655]|\n",
            "|   232| [120574, 5.657745]|\n",
            "|   232| [142891, 5.623824]|\n",
            "|   232|[113280, 5.6165447]|\n",
            "|   575| [58409, 6.5335307]|\n",
            "|   575|  [90533, 6.458926]|\n",
            "|   575|   [66811, 6.36649]|\n",
            "|   575| [135031, 6.309785]|\n",
            "|   575| [125273, 6.294984]|\n",
            "|   575| [63647, 6.2045636]|\n",
            "|   575| [51559, 6.1433053]|\n",
            "|   575| [185905, 5.971272]|\n",
            "|   575|[185035, 5.9317827]|\n",
            "|   575|  [84730, 5.916791]|\n",
            "+------+-------------------+\n",
            "\n",
            "CPU times: user 60.4 ms, sys: 11.4 ms, total: 71.8 ms\n",
            "Wall time: 1min 7s\n"
          ],
          "name": "stdout"
        }
      ]
    },
    {
      "cell_type": "code",
      "metadata": {
        "id": "RP4v4gAkBK_7",
        "colab": {
          "base_uri": "https://localhost:8080/",
          "height": 51
        },
        "outputId": "3d0a0d5c-b879-49b3-9827-84e2c14aec45"
      },
      "source": [
        "%%time\n",
        "movie_recommendation2.createOrReplaceTempView(\"movie_recom2\")"
      ],
      "execution_count": null,
      "outputs": [
        {
          "output_type": "stream",
          "text": [
            "CPU times: user 617 µs, sys: 0 ns, total: 617 µs\n",
            "Wall time: 33.6 ms\n"
          ],
          "name": "stdout"
        }
      ]
    },
    {
      "cell_type": "code",
      "metadata": {
        "id": "540vUaE_D0Ym",
        "colab": {
          "base_uri": "https://localhost:8080/",
          "height": 476
        },
        "outputId": "a604741e-3a68-4373-eb87-d9037db9e0b2"
      },
      "source": [
        "%%time\n",
        "movie_recommendation3 = spark.sql(\"\"\"\n",
        "select userid, recommendations.* \n",
        "from movie_recom2\n",
        "\"\"\")\n",
        "movie_recommendation3.show()"
      ],
      "execution_count": null,
      "outputs": [
        {
          "output_type": "stream",
          "text": [
            "+------+-------+---------+\n",
            "|userid|movieId|   rating|\n",
            "+------+-------+---------+\n",
            "|   232| 150268|6.2549453|\n",
            "|   232|  79045| 6.094378|\n",
            "|   232|  73826| 6.088421|\n",
            "|   232| 179115| 5.896111|\n",
            "|   232| 154921|5.8046684|\n",
            "|   232|   3228|  5.76131|\n",
            "|   232| 125938| 5.741655|\n",
            "|   232| 120574| 5.657745|\n",
            "|   232| 142891| 5.623824|\n",
            "|   232| 113280|5.6165447|\n",
            "|   575|  58409|6.5335307|\n",
            "|   575|  90533| 6.458926|\n",
            "|   575|  66811|  6.36649|\n",
            "|   575| 135031| 6.309785|\n",
            "|   575| 125273| 6.294984|\n",
            "|   575|  63647|6.2045636|\n",
            "|   575|  51559|6.1433053|\n",
            "|   575| 185905| 5.971272|\n",
            "|   575| 185035|5.9317827|\n",
            "|   575|  84730| 5.916791|\n",
            "+------+-------+---------+\n",
            "\n",
            "CPU times: user 61.9 ms, sys: 6.15 ms, total: 68 ms\n",
            "Wall time: 1min 5s\n"
          ],
          "name": "stdout"
        }
      ]
    },
    {
      "cell_type": "code",
      "metadata": {
        "id": "MznuWmSxK3rw",
        "colab": {
          "base_uri": "https://localhost:8080/",
          "height": 51
        },
        "outputId": "6876e861-411d-46a5-c633-04a42f8c7c5d"
      },
      "source": [
        "%%time\n",
        "movie_recommendation3.createOrReplaceTempView(\"movie_recom3\")"
      ],
      "execution_count": null,
      "outputs": [
        {
          "output_type": "stream",
          "text": [
            "CPU times: user 57 µs, sys: 1.01 ms, total: 1.07 ms\n",
            "Wall time: 40.3 ms\n"
          ],
          "name": "stdout"
        }
      ]
    },
    {
      "cell_type": "code",
      "metadata": {
        "id": "68I6FM-rK9Zx",
        "colab": {
          "base_uri": "https://localhost:8080/",
          "height": 476
        },
        "outputId": "75c94242-e1ff-4a62-a874-1765bf4a7250"
      },
      "source": [
        "%%time\n",
        "movie_recommendation4 = spark.sql(\"\"\"\n",
        "select a.userid, a.movieid, a.rating, b.title\n",
        "from movie_recom3 a join movies b on a.movieid = b.movieid\n",
        "\"\"\")\n",
        "movie_recommendation4.show()"
      ],
      "execution_count": null,
      "outputs": [
        {
          "output_type": "stream",
          "text": [
            "+------+-------+---------+--------------------+\n",
            "|userid|movieid|   rating|               title|\n",
            "+------+-------+---------+--------------------+\n",
            "|   232| 150268|6.2549453|      Dilwale (2015)|\n",
            "|   232|  79045| 6.094378|We Stand Alone To...|\n",
            "|   232|  73826| 6.088421|Violence at Noon ...|\n",
            "|   232| 179115| 5.896111| The Workshop (2017)|\n",
            "|   232| 154921|5.8046684|Future My Love (2...|\n",
            "|   232|   3228|  5.76131|Wirey Spindell (2...|\n",
            "|   232| 125938| 5.741655|Reggie Watts: Why...|\n",
            "|   232| 120574| 5.657745|Gimme Shelter (2013)|\n",
            "|   232| 142891| 5.623824|The Legend of Pau...|\n",
            "|   232| 113280|5.6165447|   White Frog (2012)|\n",
            "|   575|  58409|6.5335307|District, The (Ny...|\n",
            "|   575|  90533| 6.458926|Marseillaise, La ...|\n",
            "|   575|  66811|  6.36649|Glenn Killing på ...|\n",
            "|   575| 135031| 6.309785|Toto, Peppino, an...|\n",
            "|   575| 125273| 6.294984|      Tenchu! (1969)|\n",
            "|   575|  63647|6.2045636|Hanzo the Razor: ...|\n",
            "|   575|  51559|6.1433053|Eight Deadly Shot...|\n",
            "|   575| 185905| 5.971272|The Third Murder ...|\n",
            "|   575| 185035|5.9317827|Tummy Trouble (1989)|\n",
            "|   575|  84730| 5.916791|Army of Crime (L'...|\n",
            "+------+-------+---------+--------------------+\n",
            "\n",
            "CPU times: user 62.4 ms, sys: 5.14 ms, total: 67.5 ms\n",
            "Wall time: 1min 4s\n"
          ],
          "name": "stdout"
        }
      ]
    },
    {
      "cell_type": "markdown",
      "metadata": {
        "id": "33ADW5ba3ES4"
      },
      "source": [
        "## Find the similar moives for moive with id: 463, 471, 2\n",
        "Find the similar moives based on the item matrix"
      ]
    },
    {
      "cell_type": "code",
      "metadata": {
        "id": "DrNAIHzI2j_m",
        "colab": {
          "base_uri": "https://localhost:8080/",
          "height": 359
        },
        "outputId": "09eb667c-0cb4-406a-8ff1-185ab4d56f10"
      },
      "source": [
        "items_kdf = best_model.itemFactors.to_koalas()\n",
        "items_kdf.head(10)"
      ],
      "execution_count": null,
      "outputs": [
        {
          "output_type": "execute_result",
          "data": {
            "text/html": [
              "<div>\n",
              "<style scoped>\n",
              "    .dataframe tbody tr th:only-of-type {\n",
              "        vertical-align: middle;\n",
              "    }\n",
              "\n",
              "    .dataframe tbody tr th {\n",
              "        vertical-align: top;\n",
              "    }\n",
              "\n",
              "    .dataframe thead th {\n",
              "        text-align: right;\n",
              "    }\n",
              "</style>\n",
              "<table border=\"1\" class=\"dataframe\">\n",
              "  <thead>\n",
              "    <tr style=\"text-align: right;\">\n",
              "      <th></th>\n",
              "      <th>id</th>\n",
              "      <th>features</th>\n",
              "    </tr>\n",
              "  </thead>\n",
              "  <tbody>\n",
              "    <tr>\n",
              "      <th>0</th>\n",
              "      <td>10</td>\n",
              "      <td>[0.48953258991241455, -0.1679736077785492, -0....</td>\n",
              "    </tr>\n",
              "    <tr>\n",
              "      <th>1</th>\n",
              "      <td>20</td>\n",
              "      <td>[-0.03313341736793518, -0.20652873814105988, -...</td>\n",
              "    </tr>\n",
              "    <tr>\n",
              "      <th>2</th>\n",
              "      <td>30</td>\n",
              "      <td>[0.07184356451034546, -0.03379387408494949, -0...</td>\n",
              "    </tr>\n",
              "    <tr>\n",
              "      <th>3</th>\n",
              "      <td>40</td>\n",
              "      <td>[0.4006499648094177, -0.47610244154930115, 0.1...</td>\n",
              "    </tr>\n",
              "    <tr>\n",
              "      <th>4</th>\n",
              "      <td>50</td>\n",
              "      <td>[0.39639580249786377, -0.12326012551784515, 0....</td>\n",
              "    </tr>\n",
              "    <tr>\n",
              "      <th>5</th>\n",
              "      <td>60</td>\n",
              "      <td>[0.26513993740081787, -0.1936086267232895, 0.3...</td>\n",
              "    </tr>\n",
              "    <tr>\n",
              "      <th>6</th>\n",
              "      <td>70</td>\n",
              "      <td>[0.26196807622909546, -0.10213450342416763, -0...</td>\n",
              "    </tr>\n",
              "    <tr>\n",
              "      <th>7</th>\n",
              "      <td>80</td>\n",
              "      <td>[-0.09198872745037079, -0.28897616267204285, 0...</td>\n",
              "    </tr>\n",
              "    <tr>\n",
              "      <th>8</th>\n",
              "      <td>90</td>\n",
              "      <td>[0.2360554039478302, -0.05575760453939438, -0....</td>\n",
              "    </tr>\n",
              "    <tr>\n",
              "      <th>9</th>\n",
              "      <td>100</td>\n",
              "      <td>[0.09779367595911026, -0.28060540556907654, -0...</td>\n",
              "    </tr>\n",
              "  </tbody>\n",
              "</table>\n",
              "</div>"
            ],
            "text/plain": [
              "    id                                                                                                                                                                                                                                                                                                                                                                                                                                    features\n",
              "0   10   [0.48953258991241455, -0.1679736077785492, -0.24761411547660828, 0.30166494846343994, -0.09990838170051575, -0.6202465891838074, 0.7925258874893188, -0.12510013580322266, 0.203308567404747, 0.0029986246954649687, -0.14831393957138062, -0.10274334996938705, 0.04153009504079819, 0.1521988958120346, -0.4933397173881531, -0.29277870059013367, 0.4936562776565552, 0.16522207856178284, -0.20575757324695587, -0.09997835010290146]\n",
              "1   20        [-0.03313341736793518, -0.20652873814105988, -0.08451881259679794, 0.04908950626850128, 0.12869124114513397, -0.38553154468536377, 0.5924948453903198, -0.416338175535202, 0.1561724692583084, 0.504273533821106, -0.2075250744819641, -0.4946582615375519, 0.2258969098329544, 0.029515307396650314, -0.44473347067832947, 0.41169148683547974, 0.2389572709798813, 0.29427385330200195, -0.20465190708637238, -0.1303914189338684]\n",
              "2   30    [0.07184356451034546, -0.03379387408494949, -0.02641173265874386, 0.3932516276836395, 0.20810022950172424, -0.5705019235610962, 0.40692049264907837, -0.6424626708030701, -0.4862082302570343, 0.005709725432097912, -0.10191164165735245, -0.2271256446838379, 0.527780294418335, -0.013912450522184372, -0.3164246380329132, -0.10493677109479904, 0.43917322158813477, -0.5513836145401001, 0.32791364192962646, -0.1548958420753479]\n",
              "3   40          [0.4006499648094177, -0.47610244154930115, 0.16671058535575867, 0.09686312079429626, 0.6126684546470642, -0.41083988547325134, 0.5000156760215759, -0.2900695204734802, -0.08447009325027466, 0.09351256489753723, 0.13092565536499023, -0.37389007210731506, 0.3565288186073303, 0.373645544052124, -0.6716238260269165, 0.015800127759575844, 0.06922721117734909, -0.7898460030555725, 0.2549111843109131, 0.02093801647424698]\n",
              "4   50     [0.39639580249786377, -0.12326012551784515, 0.04513750225305557, -0.1568959504365921, 0.4024406671524048, -0.8304913640022278, 0.3169512152671814, -0.37861472368240356, -0.21487586200237274, -0.04273050278425217, 0.08208195120096207, -0.47108080983161926, -0.0919145718216896, -0.07838309556245804, -0.7054027915000916, -0.4134068787097931, 0.5076225996017456, 0.03719927370548248, 0.21135227382183075, -0.5225955247879028]\n",
              "5   60             [0.26513993740081787, -0.1936086267232895, 0.3940269649028778, 0.0961296334862709, 0.3591882884502411, -0.28486937284469604, 0.24025993049144745, -0.07101716846227646, -0.42149776220321655, 0.48725923895835876, -0.16441203653812408, -0.643371045589447, 0.3004953861236572, 0.707787036895752, -0.3353833556175232, 0.11247958242893219, 0.14227966964244843, -0.2875831127166748, 0.4535779356956482, 0.4253736734390259]\n",
              "6   70  [0.26196807622909546, -0.10213450342416763, -0.024210797622799873, 0.009665287099778652, -0.3979113698005676, -0.5499851107597351, -0.05519431456923485, -0.18265241384506226, 0.1571914404630661, 0.7248312830924988, -0.23762959241867065, -0.6875612735748291, 0.22451931238174438, -0.16463018953800201, -0.23874175548553467, -0.03702901676297188, 0.6999641060829163, 0.35075727105140686, 0.3151364326477051, -0.5532565116882324]\n",
              "7   80       [-0.09198872745037079, -0.28897616267204285, 0.13790751993656158, 0.48415353894233704, -0.028013039380311966, -0.4720906615257263, 0.920626699924469, -0.2192363142967224, -0.5084272623062134, 0.328834593296051, -0.28153204917907715, 0.33371680974960327, 0.2870044708251953, -0.27136728167533875, -0.5691746473312378, 0.09147488325834274, 0.26284390687942505, -0.4212173819541931, 0.7313714623451233, -0.26029306650161743]\n",
              "8   90     [0.2360554039478302, -0.05575760453939438, -0.3747824430465698, 0.25505924224853516, -0.0023889874573796988, -0.38603314757347107, 0.1072341576218605, -0.3330516517162323, -0.8080490827560425, 0.1473037153482437, -0.13713347911834717, -0.4369519352912903, 0.40201249718666077, 0.41128286719322205, -0.20604638755321503, -0.03778562694787979, 0.7764714956283569, -0.818436324596405, -0.0948430597782135, -0.1792445182800293]\n",
              "9  100    [0.09779367595911026, -0.28060540556907654, -0.05130316689610481, -0.05122710019350052, 0.3505082130432129, -0.5695309042930603, 0.3771839737892151, -0.5255920886993408, -0.01033299695700407, 0.3002243638038635, 0.009564575739204884, -0.19118595123291016, 0.4385905861854553, 0.22850865125656128, -0.5674702525138855, -0.11742071807384491, 0.23421624302864075, -0.06052078679203987, -0.3557465672492981, -0.2791290283203125]"
            ]
          },
          "metadata": {
            "tags": []
          },
          "execution_count": 57
        }
      ]
    },
    {
      "cell_type": "code",
      "metadata": {
        "id": "bncDPim2yKLu"
      },
      "source": [
        "def top10_similar(targetId):\n",
        "  try:\n",
        "    target_feature = items_kdf[items_kdf.id == str(targetId)]['features'].to_numpy()[0]\n",
        "  except:\n",
        "    return 'movie ' + str(targetId) + ' is not found'\n",
        "\n",
        "  similarities = pd.DataFrame(columns = ['movieId', 'cosine_similarity'])\n",
        "  for id, feature in items_kdf.to_numpy():\n",
        "    similarity = np.dot(target_feature, feature)/(np.linalg.norm(target_feature) * np.linalg.norm(feature))\n",
        "    similarities = similarities.append({'movieId': str(id), 'cosine_similarity': similarity}, ignore_index = True)\n",
        "  similarities = similarities.sort_values(by=['cosine_similarity'], ascending = False)[1:11]\n",
        "  joint = similarities.merge(movies_df.toPandas(), left_on = 'movieId', right_on = 'movieId', how = 'inner')\n",
        "  return joint\n"
      ],
      "execution_count": null,
      "outputs": []
    },
    {
      "cell_type": "code",
      "metadata": {
        "id": "jA4MYGyP1fq6",
        "colab": {
          "base_uri": "https://localhost:8080/",
          "height": 359
        },
        "outputId": "4ad946f2-8206-4b62-8a3f-f22f5abeef08"
      },
      "source": [
        "# find top 10 similar moview with movie ID 463\n",
        "top10_similar(463)"
      ],
      "execution_count": null,
      "outputs": [
        {
          "output_type": "execute_result",
          "data": {
            "text/html": [
              "<div>\n",
              "<style scoped>\n",
              "    .dataframe tbody tr th:only-of-type {\n",
              "        vertical-align: middle;\n",
              "    }\n",
              "\n",
              "    .dataframe tbody tr th {\n",
              "        vertical-align: top;\n",
              "    }\n",
              "\n",
              "    .dataframe thead th {\n",
              "        text-align: right;\n",
              "    }\n",
              "</style>\n",
              "<table border=\"1\" class=\"dataframe\">\n",
              "  <thead>\n",
              "    <tr style=\"text-align: right;\">\n",
              "      <th></th>\n",
              "      <th>movieId</th>\n",
              "      <th>cosine_similarity</th>\n",
              "      <th>title</th>\n",
              "      <th>genres</th>\n",
              "    </tr>\n",
              "  </thead>\n",
              "  <tbody>\n",
              "    <tr>\n",
              "      <th>0</th>\n",
              "      <td>6240</td>\n",
              "      <td>0.905931</td>\n",
              "      <td>One Good Cop (1991)</td>\n",
              "      <td>Action|Crime|Drama</td>\n",
              "    </tr>\n",
              "    <tr>\n",
              "      <th>1</th>\n",
              "      <td>6810</td>\n",
              "      <td>0.899345</td>\n",
              "      <td>Sleeping with the Enemy (1991)</td>\n",
              "      <td>Drama|Thriller</td>\n",
              "    </tr>\n",
              "    <tr>\n",
              "      <th>2</th>\n",
              "      <td>7626</td>\n",
              "      <td>0.896538</td>\n",
              "      <td>Switch (1991)</td>\n",
              "      <td>Comedy|Crime|Fantasy</td>\n",
              "    </tr>\n",
              "    <tr>\n",
              "      <th>3</th>\n",
              "      <td>1661</td>\n",
              "      <td>0.892277</td>\n",
              "      <td>Switchback (1997)</td>\n",
              "      <td>Crime|Mystery|Thriller</td>\n",
              "    </tr>\n",
              "    <tr>\n",
              "      <th>4</th>\n",
              "      <td>1003</td>\n",
              "      <td>0.891103</td>\n",
              "      <td>Extreme Measures (1996)</td>\n",
              "      <td>Drama|Thriller</td>\n",
              "    </tr>\n",
              "    <tr>\n",
              "      <th>5</th>\n",
              "      <td>59840</td>\n",
              "      <td>0.885669</td>\n",
              "      <td>Cold Sweat (De la part des copains) (1970)</td>\n",
              "      <td>Action|Drama|Thriller</td>\n",
              "    </tr>\n",
              "    <tr>\n",
              "      <th>6</th>\n",
              "      <td>1432</td>\n",
              "      <td>0.880651</td>\n",
              "      <td>Metro (1997)</td>\n",
              "      <td>Action|Comedy|Crime|Drama|Thriller</td>\n",
              "    </tr>\n",
              "    <tr>\n",
              "      <th>7</th>\n",
              "      <td>137036</td>\n",
              "      <td>0.874421</td>\n",
              "      <td>The Surrogate (2013)</td>\n",
              "      <td>Drama|Mystery|Thriller</td>\n",
              "    </tr>\n",
              "    <tr>\n",
              "      <th>8</th>\n",
              "      <td>5282</td>\n",
              "      <td>0.868342</td>\n",
              "      <td>High Crimes (2002)</td>\n",
              "      <td>Thriller</td>\n",
              "    </tr>\n",
              "    <tr>\n",
              "      <th>9</th>\n",
              "      <td>5655</td>\n",
              "      <td>0.867672</td>\n",
              "      <td>Fan, The (1981)</td>\n",
              "      <td>Drama|Thriller</td>\n",
              "    </tr>\n",
              "  </tbody>\n",
              "</table>\n",
              "</div>"
            ],
            "text/plain": [
              "  movieId  ...                              genres\n",
              "0    6240  ...                  Action|Crime|Drama\n",
              "1    6810  ...                      Drama|Thriller\n",
              "2    7626  ...                Comedy|Crime|Fantasy\n",
              "3    1661  ...              Crime|Mystery|Thriller\n",
              "4    1003  ...                      Drama|Thriller\n",
              "5   59840  ...               Action|Drama|Thriller\n",
              "6    1432  ...  Action|Comedy|Crime|Drama|Thriller\n",
              "7  137036  ...              Drama|Mystery|Thriller\n",
              "8    5282  ...                            Thriller\n",
              "9    5655  ...                      Drama|Thriller\n",
              "\n",
              "[10 rows x 4 columns]"
            ]
          },
          "metadata": {
            "tags": []
          },
          "execution_count": 59
        }
      ]
    },
    {
      "cell_type": "code",
      "metadata": {
        "id": "71QnjhsF7HF_",
        "colab": {
          "base_uri": "https://localhost:8080/",
          "height": 359
        },
        "outputId": "c17706b4-3190-4255-f2f3-72b524b8e930"
      },
      "source": [
        "# find top 10 similar movies with movie ID 471\n",
        "top10_similar(471)"
      ],
      "execution_count": null,
      "outputs": [
        {
          "output_type": "execute_result",
          "data": {
            "text/html": [
              "<div>\n",
              "<style scoped>\n",
              "    .dataframe tbody tr th:only-of-type {\n",
              "        vertical-align: middle;\n",
              "    }\n",
              "\n",
              "    .dataframe tbody tr th {\n",
              "        vertical-align: top;\n",
              "    }\n",
              "\n",
              "    .dataframe thead th {\n",
              "        text-align: right;\n",
              "    }\n",
              "</style>\n",
              "<table border=\"1\" class=\"dataframe\">\n",
              "  <thead>\n",
              "    <tr style=\"text-align: right;\">\n",
              "      <th></th>\n",
              "      <th>movieId</th>\n",
              "      <th>cosine_similarity</th>\n",
              "      <th>title</th>\n",
              "      <th>genres</th>\n",
              "    </tr>\n",
              "  </thead>\n",
              "  <tbody>\n",
              "    <tr>\n",
              "      <th>0</th>\n",
              "      <td>4467</td>\n",
              "      <td>0.905163</td>\n",
              "      <td>Adventures of Baron Munchausen, The (1988)</td>\n",
              "      <td>Adventure|Comedy|Fantasy</td>\n",
              "    </tr>\n",
              "    <tr>\n",
              "      <th>1</th>\n",
              "      <td>5072</td>\n",
              "      <td>0.903572</td>\n",
              "      <td>Metropolis (2001)</td>\n",
              "      <td>Animation|Sci-Fi</td>\n",
              "    </tr>\n",
              "    <tr>\n",
              "      <th>2</th>\n",
              "      <td>46976</td>\n",
              "      <td>0.902010</td>\n",
              "      <td>Stranger than Fiction (2006)</td>\n",
              "      <td>Comedy|Drama|Fantasy|Romance</td>\n",
              "    </tr>\n",
              "    <tr>\n",
              "      <th>3</th>\n",
              "      <td>125854</td>\n",
              "      <td>0.897983</td>\n",
              "      <td>The Diary of Anne Frank (1980)</td>\n",
              "      <td>Drama</td>\n",
              "    </tr>\n",
              "    <tr>\n",
              "      <th>4</th>\n",
              "      <td>138028</td>\n",
              "      <td>0.897921</td>\n",
              "      <td>Tsumugi (2004)</td>\n",
              "      <td>Drama|Romance</td>\n",
              "    </tr>\n",
              "    <tr>\n",
              "      <th>5</th>\n",
              "      <td>140531</td>\n",
              "      <td>0.897281</td>\n",
              "      <td>Coo of The Far Seas (1993)</td>\n",
              "      <td>(no genres listed)</td>\n",
              "    </tr>\n",
              "    <tr>\n",
              "      <th>6</th>\n",
              "      <td>143661</td>\n",
              "      <td>0.897281</td>\n",
              "      <td>Rage (2010)</td>\n",
              "      <td>Drama|Horror|Sci-Fi</td>\n",
              "    </tr>\n",
              "    <tr>\n",
              "      <th>7</th>\n",
              "      <td>183897</td>\n",
              "      <td>0.894299</td>\n",
              "      <td>Isle of Dogs (2018)</td>\n",
              "      <td>Animation|Comedy</td>\n",
              "    </tr>\n",
              "    <tr>\n",
              "      <th>8</th>\n",
              "      <td>87234</td>\n",
              "      <td>0.893941</td>\n",
              "      <td>Submarine (2010)</td>\n",
              "      <td>Comedy|Drama|Romance</td>\n",
              "    </tr>\n",
              "    <tr>\n",
              "      <th>9</th>\n",
              "      <td>97906</td>\n",
              "      <td>0.893175</td>\n",
              "      <td>Splinterheads (2009)</td>\n",
              "      <td>Comedy</td>\n",
              "    </tr>\n",
              "  </tbody>\n",
              "</table>\n",
              "</div>"
            ],
            "text/plain": [
              "  movieId  ...                        genres\n",
              "0    4467  ...      Adventure|Comedy|Fantasy\n",
              "1    5072  ...              Animation|Sci-Fi\n",
              "2   46976  ...  Comedy|Drama|Fantasy|Romance\n",
              "3  125854  ...                         Drama\n",
              "4  138028  ...                 Drama|Romance\n",
              "5  140531  ...            (no genres listed)\n",
              "6  143661  ...           Drama|Horror|Sci-Fi\n",
              "7  183897  ...              Animation|Comedy\n",
              "8   87234  ...          Comedy|Drama|Romance\n",
              "9   97906  ...                        Comedy\n",
              "\n",
              "[10 rows x 4 columns]"
            ]
          },
          "metadata": {
            "tags": []
          },
          "execution_count": 60
        }
      ]
    },
    {
      "cell_type": "code",
      "metadata": {
        "id": "iqd8x_QO8POf",
        "colab": {
          "base_uri": "https://localhost:8080/",
          "height": 359
        },
        "outputId": "97773522-1bcc-4a31-a88a-7f28447758f5"
      },
      "source": [
        "# find top 10 similar movies with movie ID 2\n",
        "top10_similar(2)"
      ],
      "execution_count": null,
      "outputs": [
        {
          "output_type": "execute_result",
          "data": {
            "text/html": [
              "<div>\n",
              "<style scoped>\n",
              "    .dataframe tbody tr th:only-of-type {\n",
              "        vertical-align: middle;\n",
              "    }\n",
              "\n",
              "    .dataframe tbody tr th {\n",
              "        vertical-align: top;\n",
              "    }\n",
              "\n",
              "    .dataframe thead th {\n",
              "        text-align: right;\n",
              "    }\n",
              "</style>\n",
              "<table border=\"1\" class=\"dataframe\">\n",
              "  <thead>\n",
              "    <tr style=\"text-align: right;\">\n",
              "      <th></th>\n",
              "      <th>movieId</th>\n",
              "      <th>cosine_similarity</th>\n",
              "      <th>title</th>\n",
              "      <th>genres</th>\n",
              "    </tr>\n",
              "  </thead>\n",
              "  <tbody>\n",
              "    <tr>\n",
              "      <th>0</th>\n",
              "      <td>141662</td>\n",
              "      <td>0.903451</td>\n",
              "      <td>Hawks (1988)</td>\n",
              "      <td>Comedy|Drama</td>\n",
              "    </tr>\n",
              "    <tr>\n",
              "      <th>1</th>\n",
              "      <td>171003</td>\n",
              "      <td>0.891981</td>\n",
              "      <td>Rufus (2016)</td>\n",
              "      <td>Children|Comedy</td>\n",
              "    </tr>\n",
              "    <tr>\n",
              "      <th>2</th>\n",
              "      <td>138448</td>\n",
              "      <td>0.891981</td>\n",
              "      <td>Midnight Sun (2014)</td>\n",
              "      <td>Adventure</td>\n",
              "    </tr>\n",
              "    <tr>\n",
              "      <th>3</th>\n",
              "      <td>99448</td>\n",
              "      <td>0.888521</td>\n",
              "      <td>Trek Nation (2010)</td>\n",
              "      <td>Documentary</td>\n",
              "    </tr>\n",
              "    <tr>\n",
              "      <th>4</th>\n",
              "      <td>4545</td>\n",
              "      <td>0.887341</td>\n",
              "      <td>Short Circuit (1986)</td>\n",
              "      <td>Comedy|Sci-Fi</td>\n",
              "    </tr>\n",
              "    <tr>\n",
              "      <th>5</th>\n",
              "      <td>94537</td>\n",
              "      <td>0.884880</td>\n",
              "      <td>Angels Crest (2011)</td>\n",
              "      <td>Drama</td>\n",
              "    </tr>\n",
              "    <tr>\n",
              "      <th>6</th>\n",
              "      <td>131504</td>\n",
              "      <td>0.884467</td>\n",
              "      <td>Jellyfish Eyes (2013)</td>\n",
              "      <td>Comedy|Fantasy</td>\n",
              "    </tr>\n",
              "    <tr>\n",
              "      <th>7</th>\n",
              "      <td>141191</td>\n",
              "      <td>0.880831</td>\n",
              "      <td>OPA! (2005)</td>\n",
              "      <td>Comedy|Romance</td>\n",
              "    </tr>\n",
              "    <tr>\n",
              "      <th>8</th>\n",
              "      <td>192749</td>\n",
              "      <td>0.880043</td>\n",
              "      <td>Along With the Gods: The Last 49 Days (2018)</td>\n",
              "      <td>Action|Adventure|Drama|Fantasy</td>\n",
              "    </tr>\n",
              "    <tr>\n",
              "      <th>9</th>\n",
              "      <td>177081</td>\n",
              "      <td>0.873256</td>\n",
              "      <td>Colour from the Dark (2008)</td>\n",
              "      <td>Horror</td>\n",
              "    </tr>\n",
              "  </tbody>\n",
              "</table>\n",
              "</div>"
            ],
            "text/plain": [
              "  movieId  ...                          genres\n",
              "0  141662  ...                    Comedy|Drama\n",
              "1  171003  ...                 Children|Comedy\n",
              "2  138448  ...                       Adventure\n",
              "3   99448  ...                     Documentary\n",
              "4    4545  ...                   Comedy|Sci-Fi\n",
              "5   94537  ...                           Drama\n",
              "6  131504  ...                  Comedy|Fantasy\n",
              "7  141191  ...                  Comedy|Romance\n",
              "8  192749  ...  Action|Adventure|Drama|Fantasy\n",
              "9  177081  ...                          Horror\n",
              "\n",
              "[10 rows x 4 columns]"
            ]
          },
          "metadata": {
            "tags": []
          },
          "execution_count": 61
        }
      ]
    }
  ]
}